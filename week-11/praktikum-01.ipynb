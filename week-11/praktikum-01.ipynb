{
  "nbformat": 4,
  "nbformat_minor": 0,
  "metadata": {
    "colab": {
      "provenance": [],
      "gpuType": "T4",
      "authorship_tag": "ABX9TyOqHdFV3mh09VH7UjW+VBgK",
      "include_colab_link": true
    },
    "kernelspec": {
      "name": "python3",
      "display_name": "Python 3"
    },
    "language_info": {
      "name": "python"
    },
    "accelerator": "GPU"
  },
  "cells": [
    {
      "cell_type": "markdown",
      "metadata": {
        "id": "view-in-github",
        "colab_type": "text"
      },
      "source": [
        "<a href=\"https://colab.research.google.com/github/lailatulbadriyah24/2141720036-machine-learning-2023/blob/main/praktikum-01.ipynb\" target=\"_parent\"><img src=\"https://colab.research.google.com/assets/colab-badge.svg\" alt=\"Open In Colab\"/></a>"
      ]
    },
    {
      "cell_type": "markdown",
      "source": [
        "# **Praktikum 1: Klasifikasi 🐱 dan 🐶**"
      ],
      "metadata": {
        "id": "oI0Ks2Rh6VdB"
      }
    },
    {
      "cell_type": "markdown",
      "source": [
        "### **Langkah 1 - Import Library**"
      ],
      "metadata": {
        "id": "5kVfwAfA6cwF"
      }
    },
    {
      "cell_type": "code",
      "source": [
        "from google.colab import drive\n",
        "drive.mount('/content/drive')"
      ],
      "metadata": {
        "id": "syTs6Bte7KwL",
        "colab": {
          "base_uri": "https://localhost:8080/"
        },
        "outputId": "2f1d7be1-1d75-4ff1-9014-692539bd4b0d"
      },
      "execution_count": 1,
      "outputs": [
        {
          "output_type": "stream",
          "name": "stdout",
          "text": [
            "Mounted at /content/drive\n"
          ]
        }
      ]
    },
    {
      "cell_type": "code",
      "source": [
        "path = '/content/drive/MyDrive/MACHINE-LEARNING/dataset/'"
      ],
      "metadata": {
        "id": "WWKFofjQ7DnV"
      },
      "execution_count": 2,
      "outputs": []
    },
    {
      "cell_type": "code",
      "execution_count": 3,
      "metadata": {
        "id": "vQQzQLLoyIQo"
      },
      "outputs": [],
      "source": [
        "import tensorflow as tf\n",
        "from keras.preprocessing.image import ImageDataGenerator"
      ]
    },
    {
      "cell_type": "markdown",
      "source": [
        "### **Langkah 2 - Pra Pengolahan Data**"
      ],
      "metadata": {
        "id": "45bigHLh6qdt"
      }
    },
    {
      "cell_type": "markdown",
      "source": [
        "Pada tahap ini kita akan sedikit melakukan manipulasi pada citra yang digunakan. Manipulasi yang dilakukan diantaranya adalah normalisasi nilai piksel, koreksi kemiringan, pembesaran (zoom), dan flip."
      ],
      "metadata": {
        "id": "ZTcElhqB6uxp"
      }
    },
    {
      "cell_type": "markdown",
      "source": [
        "### **Langkah 2.1. Pra Pengolahan Data Training**"
      ],
      "metadata": {
        "id": "jqP4XGBr6wtF"
      }
    },
    {
      "cell_type": "code",
      "source": [
        "train_datagen = ImageDataGenerator(rescale = 1./255,\n",
        "                                   shear_range = 0.2,\n",
        "                                   zoom_range = 0.2,\n",
        "                                   horizontal_flip = True)\n",
        "training_set = train_datagen.flow_from_directory(f'{path}/training_set',\n",
        "                                                 target_size = (64, 64),\n",
        "                                                 batch_size = 32,\n",
        "                                                 class_mode = 'binary')"
      ],
      "metadata": {
        "id": "eravQ9cp6nJi",
        "colab": {
          "base_uri": "https://localhost:8080/"
        },
        "outputId": "11f99bbf-594e-425c-b4f8-d068f3f2210e"
      },
      "execution_count": 4,
      "outputs": [
        {
          "output_type": "stream",
          "name": "stdout",
          "text": [
            "Found 8046 images belonging to 2 classes.\n"
          ]
        }
      ]
    },
    {
      "cell_type": "markdown",
      "source": [
        "### **Langkah 2.1. Pra Pengolahan Data Testing**"
      ],
      "metadata": {
        "id": "Orm62JIWlIVu"
      }
    },
    {
      "cell_type": "code",
      "source": [
        "test_datagen = ImageDataGenerator(rescale = 1./255)\n",
        "test_set = test_datagen.flow_from_directory(f'{path}/test_set',\n",
        "                                            target_size = (64, 64),\n",
        "                                            batch_size = 32,\n",
        "                                            class_mode = 'binary')"
      ],
      "metadata": {
        "id": "Z7AuwgCflLSH",
        "colab": {
          "base_uri": "https://localhost:8080/"
        },
        "outputId": "9d46dac1-da57-4195-a1eb-bfb6ede35ae4"
      },
      "execution_count": 5,
      "outputs": [
        {
          "output_type": "stream",
          "name": "stdout",
          "text": [
            "Found 2002 images belonging to 2 classes.\n"
          ]
        }
      ]
    },
    {
      "cell_type": "markdown",
      "source": [
        "### **Langkah 3 - Pembuatan Model CNN**"
      ],
      "metadata": {
        "id": "FZL4zjHRl_Ya"
      }
    },
    {
      "cell_type": "markdown",
      "source": [
        "### **Langkah 3.1.  - Inisiasi Model CNN**"
      ],
      "metadata": {
        "id": "38ATzxL6mB0V"
      }
    },
    {
      "cell_type": "code",
      "source": [
        "cnn = tf.keras.models.Sequential()"
      ],
      "metadata": {
        "id": "RttdFwskmD-r"
      },
      "execution_count": 6,
      "outputs": []
    },
    {
      "cell_type": "markdown",
      "source": [
        "### **Langkah 3.2. - Pembuatan Layer Konvolusi 1**"
      ],
      "metadata": {
        "id": "ZL0hJ6-DmGzo"
      }
    },
    {
      "cell_type": "code",
      "source": [
        "cnn.add(tf.keras.layers.Conv2D(filters=32, kernel_size=3, activation='relu', input_shape=[64, 64, 3]))"
      ],
      "metadata": {
        "id": "ePdtNOK2mIeY"
      },
      "execution_count": 7,
      "outputs": []
    },
    {
      "cell_type": "markdown",
      "source": [
        "### **Langkah 3.3 - Pembuatan Layer Pooling 1**"
      ],
      "metadata": {
        "id": "5S0B3mMJmLfS"
      }
    },
    {
      "cell_type": "code",
      "source": [
        "cnn.add(tf.keras.layers.MaxPool2D(pool_size=2, strides=2))"
      ],
      "metadata": {
        "id": "wGFUCLV_mNkM"
      },
      "execution_count": 8,
      "outputs": []
    },
    {
      "cell_type": "markdown",
      "source": [
        "### **Langkah 3.4 - Pembuatan Layer Konvolusi 2 dan Pooling 2**"
      ],
      "metadata": {
        "id": "FBlqbEaZmPqE"
      }
    },
    {
      "cell_type": "code",
      "source": [
        "cnn.add(tf.keras.layers.Conv2D(filters=32, kernel_size=3, activation='relu'))\n",
        "cnn.add(tf.keras.layers.MaxPool2D(pool_size=2, strides=2))"
      ],
      "metadata": {
        "id": "YskwXhR7mRYJ"
      },
      "execution_count": 9,
      "outputs": []
    },
    {
      "cell_type": "markdown",
      "source": [
        "### **Langkah 3.5 - Flattening**"
      ],
      "metadata": {
        "id": "pY2m1biEmTPp"
      }
    },
    {
      "cell_type": "code",
      "source": [
        "cnn.add(tf.keras.layers.Flatten())"
      ],
      "metadata": {
        "id": "q0M-VclBmVGQ"
      },
      "execution_count": 10,
      "outputs": []
    },
    {
      "cell_type": "markdown",
      "source": [
        "### **Langkah 3.6 - Fully Connected Layer 1 (Input)**"
      ],
      "metadata": {
        "id": "NlEKcQ47mZYX"
      }
    },
    {
      "cell_type": "code",
      "source": [
        "cnn.add(tf.keras.layers.Dense(units=128, activation='relu'))"
      ],
      "metadata": {
        "id": "xqwBGMWZmc0s"
      },
      "execution_count": 11,
      "outputs": []
    },
    {
      "cell_type": "markdown",
      "source": [
        "### **Langkah 3.7 - Fully Connected Layer 2 (Output)**"
      ],
      "metadata": {
        "id": "JzXv7V9Ymf5B"
      }
    },
    {
      "cell_type": "code",
      "source": [
        "cnn.add(tf.keras.layers.Dense(units=1, activation='sigmoid'))"
      ],
      "metadata": {
        "id": "I9NdC3Xymh23"
      },
      "execution_count": 12,
      "outputs": []
    },
    {
      "cell_type": "markdown",
      "source": [
        "### **Langkah 3.8 - Compile Model CNN**"
      ],
      "metadata": {
        "id": "Wz2PvWvonJJE"
      }
    },
    {
      "cell_type": "code",
      "source": [
        "cnn.compile(optimizer = 'adam', loss = 'binary_crossentropy', metrics = ['accuracy'])"
      ],
      "metadata": {
        "id": "ZgC7yvEknLGD"
      },
      "execution_count": 13,
      "outputs": []
    },
    {
      "cell_type": "markdown",
      "source": [
        "Penggunaan **loss function binary crossentropy** dikarenakan kita hanya melakukan klasifikasi pada dua kelas, yaitu kucing dan anjing."
      ],
      "metadata": {
        "id": "R0ue0v6inP-S"
      }
    },
    {
      "cell_type": "markdown",
      "source": [
        "### **Langkah 4 - Fit CNN**"
      ],
      "metadata": {
        "id": "eMDp49QGnS0D"
      }
    },
    {
      "cell_type": "code",
      "source": [
        "cnn.fit(x = training_set, validation_data = test_set, epochs = 25)"
      ],
      "metadata": {
        "id": "fnXmwLPonUvA",
        "colab": {
          "base_uri": "https://localhost:8080/"
        },
        "outputId": "4389bae4-7f09-460e-8955-99ad3de2a539"
      },
      "execution_count": 14,
      "outputs": [
        {
          "output_type": "stream",
          "name": "stdout",
          "text": [
            "Epoch 1/25\n",
            "252/252 [==============================] - 1324s 5s/step - loss: 0.6713 - accuracy: 0.5891 - val_loss: 0.7024 - val_accuracy: 0.5634\n",
            "Epoch 2/25\n",
            "252/252 [==============================] - 41s 163ms/step - loss: 0.6222 - accuracy: 0.6606 - val_loss: 0.6036 - val_accuracy: 0.6818\n",
            "Epoch 3/25\n",
            "252/252 [==============================] - 37s 147ms/step - loss: 0.5653 - accuracy: 0.7107 - val_loss: 0.5311 - val_accuracy: 0.7413\n",
            "Epoch 4/25\n",
            "252/252 [==============================] - 36s 144ms/step - loss: 0.5286 - accuracy: 0.7363 - val_loss: 0.5525 - val_accuracy: 0.7313\n",
            "Epoch 5/25\n",
            "252/252 [==============================] - 36s 144ms/step - loss: 0.5092 - accuracy: 0.7437 - val_loss: 0.5265 - val_accuracy: 0.7502\n",
            "Epoch 6/25\n",
            "252/252 [==============================] - 37s 147ms/step - loss: 0.4881 - accuracy: 0.7673 - val_loss: 0.5024 - val_accuracy: 0.7687\n",
            "Epoch 7/25\n",
            "252/252 [==============================] - 42s 167ms/step - loss: 0.4714 - accuracy: 0.7744 - val_loss: 0.4903 - val_accuracy: 0.7742\n",
            "Epoch 8/25\n",
            "252/252 [==============================] - 43s 170ms/step - loss: 0.4584 - accuracy: 0.7799 - val_loss: 0.4932 - val_accuracy: 0.7787\n",
            "Epoch 9/25\n",
            "252/252 [==============================] - 37s 146ms/step - loss: 0.4497 - accuracy: 0.7892 - val_loss: 0.4862 - val_accuracy: 0.7757\n",
            "Epoch 10/25\n",
            "252/252 [==============================] - 36s 145ms/step - loss: 0.4299 - accuracy: 0.7957 - val_loss: 0.4871 - val_accuracy: 0.7747\n",
            "Epoch 11/25\n",
            "252/252 [==============================] - 36s 142ms/step - loss: 0.4113 - accuracy: 0.8105 - val_loss: 0.5491 - val_accuracy: 0.7532\n",
            "Epoch 12/25\n",
            "252/252 [==============================] - 36s 142ms/step - loss: 0.4063 - accuracy: 0.8130 - val_loss: 0.4688 - val_accuracy: 0.7837\n",
            "Epoch 13/25\n",
            "252/252 [==============================] - 36s 144ms/step - loss: 0.3959 - accuracy: 0.8136 - val_loss: 0.4611 - val_accuracy: 0.7922\n",
            "Epoch 14/25\n",
            "252/252 [==============================] - 37s 146ms/step - loss: 0.3730 - accuracy: 0.8285 - val_loss: 0.4563 - val_accuracy: 0.7962\n",
            "Epoch 15/25\n",
            "252/252 [==============================] - 39s 153ms/step - loss: 0.3663 - accuracy: 0.8357 - val_loss: 0.4573 - val_accuracy: 0.7897\n",
            "Epoch 16/25\n",
            "252/252 [==============================] - 36s 144ms/step - loss: 0.3450 - accuracy: 0.8476 - val_loss: 0.4713 - val_accuracy: 0.7857\n",
            "Epoch 17/25\n",
            "252/252 [==============================] - 36s 141ms/step - loss: 0.3445 - accuracy: 0.8463 - val_loss: 0.4601 - val_accuracy: 0.7952\n",
            "Epoch 18/25\n",
            "252/252 [==============================] - 36s 142ms/step - loss: 0.3354 - accuracy: 0.8514 - val_loss: 0.5118 - val_accuracy: 0.7932\n",
            "Epoch 19/25\n",
            "252/252 [==============================] - 41s 163ms/step - loss: 0.3206 - accuracy: 0.8658 - val_loss: 0.5092 - val_accuracy: 0.7747\n",
            "Epoch 20/25\n",
            "252/252 [==============================] - 36s 143ms/step - loss: 0.2994 - accuracy: 0.8709 - val_loss: 0.5017 - val_accuracy: 0.7907\n",
            "Epoch 21/25\n",
            "252/252 [==============================] - 40s 160ms/step - loss: 0.2956 - accuracy: 0.8727 - val_loss: 0.5066 - val_accuracy: 0.7947\n",
            "Epoch 22/25\n",
            "252/252 [==============================] - 36s 142ms/step - loss: 0.2829 - accuracy: 0.8817 - val_loss: 0.4875 - val_accuracy: 0.7942\n",
            "Epoch 23/25\n",
            "252/252 [==============================] - 36s 144ms/step - loss: 0.2691 - accuracy: 0.8914 - val_loss: 0.5126 - val_accuracy: 0.8037\n",
            "Epoch 24/25\n",
            "252/252 [==============================] - 36s 143ms/step - loss: 0.2599 - accuracy: 0.8904 - val_loss: 0.5159 - val_accuracy: 0.8147\n",
            "Epoch 25/25\n",
            "252/252 [==============================] - 36s 144ms/step - loss: 0.2435 - accuracy: 0.8988 - val_loss: 0.5464 - val_accuracy: 0.7932\n"
          ]
        },
        {
          "output_type": "execute_result",
          "data": {
            "text/plain": [
              "<keras.src.callbacks.History at 0x7a003c1ab100>"
            ]
          },
          "metadata": {},
          "execution_count": 14
        }
      ]
    },
    {
      "cell_type": "markdown",
      "source": [
        "### **Langkah 5 - Prediksi dengan 1 Citra**"
      ],
      "metadata": {
        "id": "1zb8TTxuGOh7"
      }
    },
    {
      "cell_type": "code",
      "source": [
        "import numpy as np\n",
        "from keras.preprocessing import image\n",
        "\n",
        "test_image = image.load_img(f'{path}/single_prediction/cat_or_dog_1.jpg', target_size = (64, 64)) # memuat gambar uji dengan ukuran target 64x64 piksel\n",
        "test_image = image.img_to_array(test_image) # mengonversi gambar yang telah dimuat menjadi array NumPy.\n",
        "test_image = np.expand_dims(test_image, axis = 0) # mengubah array gambar menjadi tensor dengan dimensi tambahan\n",
        "result = cnn.predict(test_image) # untuk melakukan prediksi dengan model CNN yang sudah dilatih\n",
        "training_set.class_indices # memberikan informasi tentang indeks yang sesuai dengan kelas 'cat' dan 'dog' dalam hasil prediksi\n",
        "if result[0][0] == 1: # memeriksa apakah hasil prediksi adalah 1 atau tidak\n",
        "    prediction = 'dog' # jika hasil prediksi adalah 1, maka memprediksi bahwa gambar adalah anjing ('dog')\n",
        "else:\n",
        "    prediction = 'cat' # jika hasil prediksi bukan 1, maka memprediksi bahwa gambar adalah kucing ('cat')"
      ],
      "metadata": {
        "colab": {
          "base_uri": "https://localhost:8080/"
        },
        "id": "qvBJrPrUGSDd",
        "outputId": "ac6ab958-17e7-4ced-bdaa-d23ff4e18ce0"
      },
      "execution_count": 19,
      "outputs": [
        {
          "output_type": "stream",
          "name": "stdout",
          "text": [
            "1/1 [==============================] - 0s 27ms/step\n"
          ]
        }
      ]
    }
  ]
}