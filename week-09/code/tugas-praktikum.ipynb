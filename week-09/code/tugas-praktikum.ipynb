{
 "cells": [
  {
   "cell_type": "markdown",
   "metadata": {},
   "source": [
    "# **Tugas Praktikum**"
   ]
  },
  {
   "cell_type": "markdown",
   "metadata": {},
   "source": [
    "- Lakukan klasifikasi pada data MNIST dengan menggunakan model ANN\n",
    "- Anda diperbolehkan melakukan eksplorasi terhadap,\n",
    "    - Metode pra pengolahan\n",
    "    - Pemilihan fitur\n",
    "    - Arsitektur ANN\n",
    "    - Fungsi Aktiviasi\n",
    "- ANN diimplementasikan dengan menggunakan tensorflow.\n",
    "- DIKERJAKAN SECARA BERKELOMPOK\n",
    "- JELASKAN HASIL YANG ANDA DAPATKAN,\n",
    "    - AKURASI\n",
    "    - CONFUSION MATRIX\n",
    "    - KONFIGURASI MODEL --> MULAI DARI PRA PENGOLAHAN SAMPAI ARSITEKTUR ANN"
   ]
  },
  {
   "cell_type": "markdown",
   "metadata": {},
   "source": [
    "### **Import Library**"
   ]
  },
  {
   "cell_type": "code",
   "execution_count": 98,
   "metadata": {},
   "outputs": [],
   "source": [
    "import tensorflow as tf\n",
    "import numpy as np\n",
    "import matplotlib.pyplot as plt\n",
    "from sklearn import datasets\n",
    "from sklearn.model_selection import train_test_split"
   ]
  },
  {
   "cell_type": "markdown",
   "metadata": {},
   "source": [
    "### **Load Datasets MNIST** "
   ]
  },
  {
   "cell_type": "code",
   "execution_count": 99,
   "metadata": {},
   "outputs": [
    {
     "name": "stderr",
     "output_type": "stream",
     "text": [
      "c:\\ProgramData\\anaconda3\\Lib\\site-packages\\sklearn\\datasets\\_openml.py:1002: FutureWarning: The default value of `parser` will change from `'liac-arff'` to `'auto'` in 1.4. You can set `parser='auto'` to silence this warning. Therefore, an `ImportError` will be raised from 1.4 if the dataset is dense and pandas is not installed. Note that the pandas parser may return different data types. See the Notes Section in fetch_openml's API doc for details.\n",
      "  warn(\n"
     ]
    }
   ],
   "source": [
    "mnist = datasets.fetch_openml(\"mnist_784\")"
   ]
  },
  {
   "cell_type": "markdown",
   "metadata": {},
   "source": [
    "### **Eksplorasi Data**"
   ]
  },
  {
   "cell_type": "code",
   "execution_count": 100,
   "metadata": {},
   "outputs": [
    {
     "name": "stdout",
     "output_type": "stream",
     "text": [
      "Jumlah sampel: 70000\n",
      "Dimensi setiap sampel: 784\n",
      "Jumlah kelas: 10\n"
     ]
    }
   ],
   "source": [
    "# Melihat dimensi data\n",
    "n_sampel, n_dimensi = mnist.data.shape  # Mendapatkan jumlah sampel dan dimensi\n",
    "n_kelas = len(np.unique(mnist.target))  # Mendapatkan jumlah kelas (unik)\n",
    "\n",
    "print(\"Jumlah sampel:\", n_sampel)\n",
    "print(\"Dimensi setiap sampel:\", n_dimensi)\n",
    "print(\"Jumlah kelas:\", n_kelas)"
   ]
  },
  {
   "cell_type": "markdown",
   "metadata": {},
   "source": [
    "### **Pengambilan Data Gambar dan Label dari Dataset MNIST**"
   ]
  },
  {
   "cell_type": "code",
   "execution_count": 101,
   "metadata": {},
   "outputs": [],
   "source": [
    "# Mengambil data dan label\n",
    "X = mnist.data.astype('float32')\n",
    "y = mnist.target.astype('int')"
   ]
  },
  {
   "cell_type": "code",
   "execution_count": 102,
   "metadata": {},
   "outputs": [
    {
     "data": {
      "text/plain": [
       "(70000, 784)"
      ]
     },
     "execution_count": 102,
     "metadata": {},
     "output_type": "execute_result"
    }
   ],
   "source": [
    "X.shape"
   ]
  },
  {
   "cell_type": "markdown",
   "metadata": {},
   "source": [
    "### **Scaling Data Gambar Menggunakan Min-Max Scaler**"
   ]
  },
  {
   "cell_type": "code",
   "execution_count": 103,
   "metadata": {},
   "outputs": [],
   "source": [
    "from sklearn.preprocessing import MinMaxScaler\n",
    "scaler = MinMaxScaler()  # Membuat objek MinMaxScaler\n",
    "X_scaled = scaler.fit_transform(X)  # Melakukan penskalaan pada data X"
   ]
  },
  {
   "cell_type": "code",
   "execution_count": 104,
   "metadata": {},
   "outputs": [
    {
     "name": "stdout",
     "output_type": "stream",
     "text": [
      "[[0. 0. 0. ... 0. 0. 0.]\n",
      " [0. 0. 0. ... 0. 0. 0.]\n",
      " [0. 0. 0. ... 0. 0. 0.]\n",
      " [0. 0. 0. ... 0. 0. 0.]\n",
      " [0. 0. 0. ... 0. 0. 0.]]\n"
     ]
    }
   ],
   "source": [
    "# Menampilkan 5 data awal dari X_scaled\n",
    "print(X_scaled[:5])"
   ]
  },
  {
   "cell_type": "markdown",
   "metadata": {},
   "source": [
    "### **Ekstraksi Fitur dengan PCA**"
   ]
  },
  {
   "cell_type": "code",
   "execution_count": 116,
   "metadata": {},
   "outputs": [],
   "source": [
    "from sklearn.decomposition import PCA\n",
    "\n",
    "n_components = 100\n",
    "pca = PCA(n_components=n_components, whiten=True, random_state=42)\n",
    "X_pca = pca.fit_transform(X_scaled)"
   ]
  },
  {
   "cell_type": "markdown",
   "metadata": {},
   "source": [
    "### **Split Data menjadi Data Pelatihan dan Data Pengujian**"
   ]
  },
  {
   "cell_type": "code",
   "execution_count": 117,
   "metadata": {},
   "outputs": [],
   "source": [
    "# Memisahkan data menjadi data pelatihan dan pengujian\n",
    "X_train, X_test, y_train, y_test = train_test_split(X_pca, y, test_size=0.2, random_state=42)"
   ]
  },
  {
   "cell_type": "markdown",
   "metadata": {},
   "source": [
    "### **Membangun Model ANN**"
   ]
  },
  {
   "cell_type": "code",
   "execution_count": 118,
   "metadata": {},
   "outputs": [
    {
     "name": "stdout",
     "output_type": "stream",
     "text": [
      "Epoch 1/10\n",
      "1400/1400 [==============================] - 5s 3ms/step - loss: 0.4120 - accuracy: 0.8797 - val_loss: 0.1958 - val_accuracy: 0.9429\n",
      "Epoch 2/10\n",
      "1400/1400 [==============================] - 4s 3ms/step - loss: 0.1375 - accuracy: 0.9600 - val_loss: 0.1455 - val_accuracy: 0.9571\n",
      "Epoch 3/10\n",
      "1400/1400 [==============================] - 4s 3ms/step - loss: 0.0877 - accuracy: 0.9737 - val_loss: 0.1334 - val_accuracy: 0.9614\n",
      "Epoch 4/10\n",
      "1400/1400 [==============================] - 4s 3ms/step - loss: 0.0619 - accuracy: 0.9816 - val_loss: 0.1246 - val_accuracy: 0.9632\n",
      "Epoch 5/10\n",
      "1400/1400 [==============================] - 4s 3ms/step - loss: 0.0443 - accuracy: 0.9863 - val_loss: 0.1315 - val_accuracy: 0.9633\n",
      "Epoch 6/10\n",
      "1400/1400 [==============================] - 4s 3ms/step - loss: 0.0339 - accuracy: 0.9890 - val_loss: 0.1283 - val_accuracy: 0.9664\n",
      "Epoch 7/10\n",
      "1400/1400 [==============================] - 4s 3ms/step - loss: 0.0274 - accuracy: 0.9910 - val_loss: 0.1366 - val_accuracy: 0.9652\n",
      "Epoch 8/10\n",
      "1400/1400 [==============================] - 4s 3ms/step - loss: 0.0228 - accuracy: 0.9925 - val_loss: 0.1434 - val_accuracy: 0.9675\n",
      "Epoch 9/10\n",
      "1400/1400 [==============================] - 5s 3ms/step - loss: 0.0194 - accuracy: 0.9935 - val_loss: 0.1420 - val_accuracy: 0.9667\n",
      "Epoch 10/10\n",
      "1400/1400 [==============================] - 7s 5ms/step - loss: 0.0162 - accuracy: 0.9952 - val_loss: 0.1539 - val_accuracy: 0.9658\n"
     ]
    },
    {
     "data": {
      "text/plain": [
       "<keras.src.callbacks.History at 0x25a0db3e650>"
      ]
     },
     "execution_count": 118,
     "metadata": {},
     "output_type": "execute_result"
    }
   ],
   "source": [
    "import numpy as np\n",
    "from sklearn.model_selection import train_test_split\n",
    "from tensorflow import keras\n",
    "from tensorflow.keras import layers\n",
    "\n",
    "# Membangun model ANN\n",
    "model = keras.Sequential()\n",
    "model.add(layers.Input(shape=X_pca.shape[1]))\n",
    "model.add(layers.Dense(128, activation='relu'))\n",
    "model.add(layers.Dense(64, activation='relu'))\n",
    "model.add(layers.Dense(10, activation='softmax'))  # Misalkan ada 10 kelas\n",
    "\n",
    "# Kompilasi model\n",
    "model.compile(optimizer='adam', loss='sparse_categorical_crossentropy', metrics=['accuracy'])\n",
    "\n",
    "# Melatih model\n",
    "model.fit(X_train, y_train, epochs=10, batch_size=32, validation_split=0.2)"
   ]
  },
  {
   "cell_type": "markdown",
   "metadata": {},
   "source": [
    "### **Evaluasi Performa Model pada Data Pelatihan**"
   ]
  },
  {
   "cell_type": "code",
   "execution_count": 119,
   "metadata": {},
   "outputs": [
    {
     "name": "stdout",
     "output_type": "stream",
     "text": [
      "1750/1750 [==============================] - 4s 2ms/step - loss: 0.0411 - accuracy: 0.9899\n",
      "Train Loss:  0.04\n",
      "Train Accuracy:  0.99\n"
     ]
    }
   ],
   "source": [
    "train_lost, train_acc = model.evaluate(X_train, y_train)\n",
    "print(f\"Train Loss: {train_lost: .2f}\")\n",
    "print(f\"Train Accuracy: {train_acc: .2f}\")"
   ]
  },
  {
   "cell_type": "markdown",
   "metadata": {},
   "source": [
    "### **Evaluasi Performa Model pada Data Pengujian**"
   ]
  },
  {
   "cell_type": "code",
   "execution_count": 120,
   "metadata": {},
   "outputs": [
    {
     "name": "stdout",
     "output_type": "stream",
     "text": [
      "438/438 [==============================] - 2s 3ms/step - loss: 0.1533 - accuracy: 0.9655\n",
      "Test Loss:  0.15\n",
      "Test Accuracy:  0.97\n"
     ]
    }
   ],
   "source": [
    "test_lost, test_acc = model.evaluate(X_test, y_test)\n",
    "print(f\"Test Loss: {test_lost: .2f}\")\n",
    "print(f\"Test Accuracy: {test_acc: .2f}\")"
   ]
  },
  {
   "cell_type": "markdown",
   "metadata": {},
   "source": [
    "### **Visualisasi Confusion Matrix**"
   ]
  },
  {
   "cell_type": "code",
   "execution_count": 122,
   "metadata": {},
   "outputs": [
    {
     "name": "stdout",
     "output_type": "stream",
     "text": [
      "438/438 [==============================] - 1s 2ms/step\n"
     ]
    },
    {
     "data": {
      "image/png": "[encoded data removed]",
      "text/plain": [
       "<Figure size 800x600 with 2 Axes>"
      ]
     },
     "metadata": {},
     "output_type": "display_data"
    }
   ],
   "source": [
    "from sklearn.metrics import confusion_matrix\n",
    "import seaborn as sns\n",
    "\n",
    "# Prediksi label pada data pengujian\n",
    "y_pred = model.predict(X_test)\n",
    "y_pred = np.argmax(y_pred, axis=1)  # Mengambil label dengan probabilitas tertinggi\n",
    "\n",
    "# Membuat confusion matrix\n",
    "conf_matrix = confusion_matrix(y_test, y_pred)\n",
    "\n",
    "# Plot confusion matrix\n",
    "plt.figure(figsize=(8, 6))\n",
    "sns.heatmap(conf_matrix, annot=True, fmt='d', cmap='Blues', xticklabels=np.unique(y_test), yticklabels=np.unique(y_test))\n",
    "plt.xlabel('Prediksi')\n",
    "plt.ylabel('Aktual')\n",
    "plt.title('Confusion Matrix')\n",
    "plt.show()"
   ]
  }
 ],
 "metadata": {
  "kernelspec": {
   "display_name": "base",
   "language": "python",
   "name": "python3"
  },
  "language_info": {
   "codemirror_mode": {
    "name": "ipython",
    "version": 3
   },
   "file_extension": ".py",
   "mimetype": "text/x-python",
   "name": "python",
   "nbconvert_exporter": "python",
   "pygments_lexer": "ipython3",
   "version": "3.11.4"
  }
 },
 "nbformat": 4,
 "nbformat_minor": 2
}
