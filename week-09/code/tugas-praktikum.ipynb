{
 "cells": [
  {
   "cell_type": "markdown",
   "metadata": {},
   "source": [
    "# **Tugas Praktikum**"
   ]
  },
  {
   "cell_type": "markdown",
   "metadata": {},
   "source": [
    "- Lakukan klasifikasi pada data MNIST dengan menggunakan model ANN\n",
    "- Anda diperbolehkan melakukan eksplorasi terhadap,\n",
    "    - Metode pra pengolahan\n",
    "    - Pemilihan fitur\n",
    "    - Arsitektur ANN\n",
    "    - Fungsi Aktiviasi\n",
    "- ANN diimplementasikan dengan menggunakan tensorflow.\n",
    "- DIKERJAKAN SECARA BERKELOMPOK\n",
    "- JELASKAN HASIL YANG ANDA DAPATKAN,\n",
    "    - AKURASI\n",
    "    - CONFUSION MATRIX\n",
    "    - KONFIGURASI MODEL --> MULAI DARI PRA PENGOLAHAN SAMPAI ARSITEKTUR ANN"
   ]
  },
  {
   "cell_type": "markdown",
   "metadata": {},
   "source": [
    "### **Import Library**"
   ]
  },
  {
   "cell_type": "code",
   "execution_count": 71,
   "metadata": {},
   "outputs": [],
   "source": [
    "import tensorflow as tf\n",
    "import numpy as np\n",
    "import matplotlib.pyplot as plt\n",
    "from sklearn import datasets\n",
    "from sklearn.model_selection import train_test_split"
   ]
  },
  {
   "cell_type": "markdown",
   "metadata": {},
   "source": [
    "### **Load Datasets MNIST** "
   ]
  },
  {
   "cell_type": "code",
   "execution_count": 72,
   "metadata": {},
   "outputs": [
    {
     "name": "stderr",
     "output_type": "stream",
     "text": [
      "c:\\ProgramData\\anaconda3\\Lib\\site-packages\\sklearn\\datasets\\_openml.py:1002: FutureWarning: The default value of `parser` will change from `'liac-arff'` to `'auto'` in 1.4. You can set `parser='auto'` to silence this warning. Therefore, an `ImportError` will be raised from 1.4 if the dataset is dense and pandas is not installed. Note that the pandas parser may return different data types. See the Notes Section in fetch_openml's API doc for details.\n",
      "  warn(\n"
     ]
    }
   ],
   "source": [
    "mnist = datasets.fetch_openml(\"mnist_784\")"
   ]
  },
  {
   "cell_type": "markdown",
   "metadata": {},
   "source": [
    "### **Eksplorasi Data**"
   ]
  },
  {
   "cell_type": "code",
   "execution_count": 73,
   "metadata": {},
   "outputs": [
    {
     "name": "stdout",
     "output_type": "stream",
     "text": [
      "Jumlah sampel: 70000\n",
      "Dimensi setiap sampel: 784\n",
      "Jumlah kelas: 10\n"
     ]
    }
   ],
   "source": [
    "# Melihat dimensi data\n",
    "n_sampel, n_dimensi = mnist.data.shape  # Mendapatkan jumlah sampel dan dimensi\n",
    "n_kelas = len(np.unique(mnist.target))  # Mendapatkan jumlah kelas (unik)\n",
    "\n",
    "print(\"Jumlah sampel:\", n_sampel)\n",
    "print(\"Dimensi setiap sampel:\", n_dimensi)\n",
    "print(\"Jumlah kelas:\", n_kelas)"
   ]
  },
  {
   "cell_type": "markdown",
   "metadata": {},
   "source": [
    "### **Pengambilan Data Gambar dan Label dari Dataset MNIST**"
   ]
  },
  {
   "cell_type": "code",
   "execution_count": 74,
   "metadata": {},
   "outputs": [],
   "source": [
    "# Mengambil data dan label\n",
    "X = mnist.data.astype('float32')\n",
    "y = mnist.target.astype('int')"
   ]
  },
  {
   "cell_type": "code",
   "execution_count": 75,
   "metadata": {},
   "outputs": [
    {
     "data": {
      "text/plain": [
       "(70000, 784)"
      ]
     },
     "execution_count": 75,
     "metadata": {},
     "output_type": "execute_result"
    }
   ],
   "source": [
    "X.shape"
   ]
  },
  {
   "cell_type": "markdown",
   "metadata": {},
   "source": [
    "### **Scaling Data Gambar Menggunakan Min-Max Scaler**"
   ]
  },
  {
   "cell_type": "code",
   "execution_count": 76,
   "metadata": {},
   "outputs": [],
   "source": [
    "from sklearn.preprocessing import MinMaxScaler\n",
    "scaler = MinMaxScaler()  # Membuat objek MinMaxScaler\n",
    "X_scaled = scaler.fit_transform(X)  # Melakukan penskalaan pada data X"
   ]
  },
  {
   "cell_type": "code",
   "execution_count": 77,
   "metadata": {},
   "outputs": [
    {
     "name": "stdout",
     "output_type": "stream",
     "text": [
      "[[0. 0. 0. ... 0. 0. 0.]\n",
      " [0. 0. 0. ... 0. 0. 0.]\n",
      " [0. 0. 0. ... 0. 0. 0.]\n",
      " [0. 0. 0. ... 0. 0. 0.]\n",
      " [0. 0. 0. ... 0. 0. 0.]]\n"
     ]
    }
   ],
   "source": [
    "# Menampilkan 5 data awal dari X_scaled\n",
    "print(X_scaled[:5])"
   ]
  },
  {
   "cell_type": "markdown",
   "metadata": {},
   "source": [
    "### **Ekstraksi Fitur dengan PCA**"
   ]
  },
  {
   "cell_type": "code",
   "execution_count": 78,
   "metadata": {},
   "outputs": [],
   "source": [
    "from sklearn.decomposition import PCA\n",
    "\n",
    "n_components = 300\n",
    "pca = PCA(n_components=n_components, whiten=True, random_state=42)\n",
    "X_pca = pca.fit_transform(X_scaled)"
   ]
  },
  {
   "cell_type": "markdown",
   "metadata": {},
   "source": [
    "### **Split Data menjadi Data Pelatihan dan Data Pengujian**"
   ]
  },
  {
   "cell_type": "code",
   "execution_count": 79,
   "metadata": {},
   "outputs": [],
   "source": [
    "# Memisahkan data menjadi data pelatihan dan pengujian\n",
    "X_train, X_test, y_train, y_test = train_test_split(X_pca, y, test_size=0.2, random_state=42)"
   ]
  },
  {
   "cell_type": "markdown",
   "metadata": {},
   "source": [
    "### **Membangun Model ANN**"
   ]
  },
  {
   "cell_type": "code",
   "execution_count": 93,
   "metadata": {},
   "outputs": [
    {
     "name": "stdout",
     "output_type": "stream",
     "text": [
      "Epoch 1/50\n",
      "448/448 [==============================] - 2s 4ms/step - loss: 0.7429 - accuracy: 0.7740 - val_loss: 0.2898 - val_accuracy: 0.9162\n",
      "Epoch 2/50\n",
      "448/448 [==============================] - 1s 3ms/step - loss: 0.2011 - accuracy: 0.9413 - val_loss: 0.2354 - val_accuracy: 0.9286\n",
      "Epoch 3/50\n",
      "448/448 [==============================] - 2s 4ms/step - loss: 0.1173 - accuracy: 0.9668 - val_loss: 0.2152 - val_accuracy: 0.9356\n",
      "Epoch 4/50\n",
      "448/448 [==============================] - 2s 4ms/step - loss: 0.0703 - accuracy: 0.9806 - val_loss: 0.2146 - val_accuracy: 0.9388\n",
      "Epoch 5/50\n",
      "448/448 [==============================] - 2s 5ms/step - loss: 0.0385 - accuracy: 0.9906 - val_loss: 0.2196 - val_accuracy: 0.9418\n",
      "Epoch 6/50\n",
      "448/448 [==============================] - 2s 5ms/step - loss: 0.0221 - accuracy: 0.9954 - val_loss: 0.2196 - val_accuracy: 0.9444\n",
      "Epoch 7/50\n",
      "448/448 [==============================] - 2s 6ms/step - loss: 0.0105 - accuracy: 0.9987 - val_loss: 0.2250 - val_accuracy: 0.9446\n",
      "Epoch 8/50\n",
      "448/448 [==============================] - 2s 5ms/step - loss: 0.0049 - accuracy: 0.9998 - val_loss: 0.2299 - val_accuracy: 0.9463\n",
      "Epoch 9/50\n",
      "448/448 [==============================] - 2s 5ms/step - loss: 0.0024 - accuracy: 1.0000 - val_loss: 0.2345 - val_accuracy: 0.9474\n",
      "Epoch 10/50\n",
      "448/448 [==============================] - 3s 6ms/step - loss: 0.0011 - accuracy: 1.0000 - val_loss: 0.2379 - val_accuracy: 0.9482\n",
      "Epoch 11/50\n",
      "448/448 [==============================] - 2s 5ms/step - loss: 7.3477e-04 - accuracy: 1.0000 - val_loss: 0.2437 - val_accuracy: 0.9479\n",
      "Epoch 12/50\n",
      "448/448 [==============================] - 2s 5ms/step - loss: 5.3108e-04 - accuracy: 1.0000 - val_loss: 0.2494 - val_accuracy: 0.9481\n",
      "Epoch 13/50\n",
      "448/448 [==============================] - 2s 3ms/step - loss: 3.9887e-04 - accuracy: 1.0000 - val_loss: 0.2544 - val_accuracy: 0.9490\n",
      "Epoch 14/50\n",
      "448/448 [==============================] - 2s 4ms/step - loss: 3.0372e-04 - accuracy: 1.0000 - val_loss: 0.2610 - val_accuracy: 0.9486\n",
      "Epoch 15/50\n",
      "448/448 [==============================] - 1s 3ms/step - loss: 2.3312e-04 - accuracy: 1.0000 - val_loss: 0.2666 - val_accuracy: 0.9491\n",
      "Epoch 16/50\n",
      "448/448 [==============================] - 2s 3ms/step - loss: 1.7875e-04 - accuracy: 1.0000 - val_loss: 0.2725 - val_accuracy: 0.9494\n",
      "Epoch 17/50\n",
      "448/448 [==============================] - 1s 3ms/step - loss: 1.3667e-04 - accuracy: 1.0000 - val_loss: 0.2791 - val_accuracy: 0.9496\n",
      "Epoch 18/50\n",
      "448/448 [==============================] - 2s 4ms/step - loss: 1.0575e-04 - accuracy: 1.0000 - val_loss: 0.2843 - val_accuracy: 0.9496\n",
      "Epoch 19/50\n",
      "448/448 [==============================] - 2s 5ms/step - loss: 8.1383e-05 - accuracy: 1.0000 - val_loss: 0.2901 - val_accuracy: 0.9500\n",
      "Epoch 20/50\n",
      "448/448 [==============================] - 2s 5ms/step - loss: 6.2359e-05 - accuracy: 1.0000 - val_loss: 0.2956 - val_accuracy: 0.9500\n",
      "Epoch 21/50\n",
      "448/448 [==============================] - 2s 4ms/step - loss: 4.8063e-05 - accuracy: 1.0000 - val_loss: 0.3028 - val_accuracy: 0.9500\n",
      "Epoch 22/50\n",
      "448/448 [==============================] - 2s 5ms/step - loss: 3.6785e-05 - accuracy: 1.0000 - val_loss: 0.3085 - val_accuracy: 0.9499\n",
      "Epoch 23/50\n",
      "448/448 [==============================] - 2s 5ms/step - loss: 2.8554e-05 - accuracy: 1.0000 - val_loss: 0.3143 - val_accuracy: 0.9502\n",
      "Epoch 24/50\n",
      "448/448 [==============================] - 2s 5ms/step - loss: 2.1921e-05 - accuracy: 1.0000 - val_loss: 0.3202 - val_accuracy: 0.9498\n",
      "Epoch 25/50\n",
      "448/448 [==============================] - 2s 5ms/step - loss: 1.6986e-05 - accuracy: 1.0000 - val_loss: 0.3258 - val_accuracy: 0.9503\n",
      "Epoch 26/50\n",
      "448/448 [==============================] - 2s 5ms/step - loss: 1.3032e-05 - accuracy: 1.0000 - val_loss: 0.3318 - val_accuracy: 0.9501\n",
      "Epoch 27/50\n",
      "448/448 [==============================] - 2s 5ms/step - loss: 1.0076e-05 - accuracy: 1.0000 - val_loss: 0.3375 - val_accuracy: 0.9496\n",
      "Epoch 28/50\n",
      "448/448 [==============================] - 2s 5ms/step - loss: 7.7982e-06 - accuracy: 1.0000 - val_loss: 0.3435 - val_accuracy: 0.9504\n",
      "Epoch 29/50\n",
      "448/448 [==============================] - 2s 5ms/step - loss: 6.0015e-06 - accuracy: 1.0000 - val_loss: 0.3493 - val_accuracy: 0.9500\n",
      "Epoch 30/50\n",
      "448/448 [==============================] - 2s 5ms/step - loss: 4.6611e-06 - accuracy: 1.0000 - val_loss: 0.3552 - val_accuracy: 0.9501\n",
      "Epoch 31/50\n",
      "448/448 [==============================] - 2s 5ms/step - loss: 3.6059e-06 - accuracy: 1.0000 - val_loss: 0.3619 - val_accuracy: 0.9498\n",
      "Epoch 32/50\n",
      "448/448 [==============================] - 2s 5ms/step - loss: 2.7982e-06 - accuracy: 1.0000 - val_loss: 0.3668 - val_accuracy: 0.9500\n",
      "Epoch 33/50\n",
      "448/448 [==============================] - 2s 5ms/step - loss: 2.1732e-06 - accuracy: 1.0000 - val_loss: 0.3722 - val_accuracy: 0.9505\n",
      "Epoch 34/50\n",
      "448/448 [==============================] - 2s 5ms/step - loss: 1.6867e-06 - accuracy: 1.0000 - val_loss: 0.3792 - val_accuracy: 0.9505\n",
      "Epoch 35/50\n",
      "448/448 [==============================] - 2s 5ms/step - loss: 1.3023e-06 - accuracy: 1.0000 - val_loss: 0.3844 - val_accuracy: 0.9505\n",
      "Epoch 36/50\n",
      "448/448 [==============================] - 2s 5ms/step - loss: 1.0166e-06 - accuracy: 1.0000 - val_loss: 0.3907 - val_accuracy: 0.9508\n",
      "Epoch 37/50\n",
      "448/448 [==============================] - 3s 6ms/step - loss: 7.9285e-07 - accuracy: 1.0000 - val_loss: 0.3964 - val_accuracy: 0.9509\n",
      "Epoch 38/50\n",
      "448/448 [==============================] - 3s 6ms/step - loss: 6.1672e-07 - accuracy: 1.0000 - val_loss: 0.4026 - val_accuracy: 0.9502\n",
      "Epoch 39/50\n",
      "448/448 [==============================] - 2s 5ms/step - loss: 4.7942e-07 - accuracy: 1.0000 - val_loss: 0.4068 - val_accuracy: 0.9507\n",
      "Epoch 40/50\n",
      "448/448 [==============================] - 2s 5ms/step - loss: 3.7720e-07 - accuracy: 1.0000 - val_loss: 0.4133 - val_accuracy: 0.9503\n",
      "Epoch 41/50\n",
      "448/448 [==============================] - 2s 5ms/step - loss: 2.9375e-07 - accuracy: 1.0000 - val_loss: 0.4198 - val_accuracy: 0.9507\n",
      "Epoch 42/50\n",
      "448/448 [==============================] - 3s 6ms/step - loss: 2.3096e-07 - accuracy: 1.0000 - val_loss: 0.4239 - val_accuracy: 0.9509\n",
      "Epoch 43/50\n",
      "448/448 [==============================] - 2s 4ms/step - loss: 1.8021e-07 - accuracy: 1.0000 - val_loss: 0.4288 - val_accuracy: 0.9509\n",
      "Epoch 44/50\n",
      "448/448 [==============================] - 2s 4ms/step - loss: 1.4203e-07 - accuracy: 1.0000 - val_loss: 0.4339 - val_accuracy: 0.9512\n",
      "Epoch 45/50\n",
      "448/448 [==============================] - 2s 5ms/step - loss: 1.1179e-07 - accuracy: 1.0000 - val_loss: 0.4403 - val_accuracy: 0.9509\n",
      "Epoch 46/50\n",
      "448/448 [==============================] - 3s 7ms/step - loss: 8.8582e-08 - accuracy: 1.0000 - val_loss: 0.4448 - val_accuracy: 0.9508\n",
      "Epoch 47/50\n",
      "448/448 [==============================] - 3s 7ms/step - loss: 6.9847e-08 - accuracy: 1.0000 - val_loss: 0.4498 - val_accuracy: 0.9510\n",
      "Epoch 48/50\n",
      "448/448 [==============================] - 3s 7ms/step - loss: 5.5738e-08 - accuracy: 1.0000 - val_loss: 0.4547 - val_accuracy: 0.9512\n",
      "Epoch 49/50\n",
      "448/448 [==============================] - 2s 5ms/step - loss: 4.4597e-08 - accuracy: 1.0000 - val_loss: 0.4591 - val_accuracy: 0.9513\n",
      "Epoch 50/50\n",
      "448/448 [==============================] - 2s 4ms/step - loss: 3.5781e-08 - accuracy: 1.0000 - val_loss: 0.4641 - val_accuracy: 0.9510\n"
     ]
    },
    {
     "data": {
      "text/plain": [
       "<keras.src.callbacks.History at 0x25a09abe650>"
      ]
     },
     "execution_count": 93,
     "metadata": {},
     "output_type": "execute_result"
    }
   ],
   "source": [
    "import numpy as np\n",
    "from sklearn.model_selection import train_test_split\n",
    "from tensorflow import keras\n",
    "from tensorflow.keras import layers\n",
    "\n",
    "# Membangun model ANN\n",
    "model = keras.Sequential()\n",
    "model.add(layers.Input(shape=X_pca.shape[1]))\n",
    "model.add(layers.Dense(128, activation='relu'))\n",
    "model.add(layers.Dense(64, activation='relu'))\n",
    "model.add(layers.Dense(10, activation='softmax'))  # Misalkan ada 10 kelas\n",
    "\n",
    "# Kompilasi model\n",
    "model.compile(optimizer='adam', loss='sparse_categorical_crossentropy', metrics=['accuracy'])\n",
    "\n",
    "# Melatih model\n",
    "model.fit(X_train, y_train, epochs=50, batch_size=100, validation_split=0.2)"
   ]
  },
  {
   "cell_type": "markdown",
   "metadata": {},
   "source": [
    "### **Evaluasi Performa Model pada Data Pelatihan**"
   ]
  },
  {
   "cell_type": "code",
   "execution_count": 94,
   "metadata": {},
   "outputs": [
    {
     "name": "stdout",
     "output_type": "stream",
     "text": [
      "1750/1750 [==============================] - 3s 2ms/step - loss: 0.0928 - accuracy: 0.9902\n",
      "Train Loss:  0.09\n",
      "Train Accuracy:  0.99\n"
     ]
    }
   ],
   "source": [
    "train_lost, train_acc = model.evaluate(X_train, y_train)\n",
    "print(f\"Train Loss: {train_lost: .2f}\")\n",
    "print(f\"Train Accuracy: {train_acc: .2f}\")"
   ]
  },
  {
   "cell_type": "markdown",
   "metadata": {},
   "source": [
    "### **Evaluasi Performa Model pada Data Pengujian**"
   ]
  },
  {
   "cell_type": "code",
   "execution_count": 96,
   "metadata": {},
   "outputs": [
    {
     "name": "stdout",
     "output_type": "stream",
     "text": [
      "438/438 [==============================] - 1s 2ms/step - loss: 0.5502 - accuracy: 0.9481\n",
      "Test Loss:  0.55\n",
      "Test Accuracy:  0.95\n"
     ]
    }
   ],
   "source": [
    "test_lost, test_acc = model.evaluate(X_test, y_test)\n",
    "print(f\"Test Loss: {test_lost: .2f}\")\n",
    "print(f\"Test Accuracy: {test_acc: .2f}\")"
   ]
  },
  {
   "cell_type": "markdown",
   "metadata": {},
   "source": [
    "### **Visualisasi Confusion Matrix**"
   ]
  },
  {
   "cell_type": "code",
   "execution_count": 97,
   "metadata": {},
   "outputs": [
    {
     "name": "stdout",
     "output_type": "stream",
     "text": [
      "438/438 [==============================] - 1s 2ms/step\n"
     ]
    },
    {
     "data": {
      "image/png": "[encoded data removed]",
      "text/plain": [
       "<Figure size 800x600 with 2 Axes>"
      ]
     },
     "metadata": {},
     "output_type": "display_data"
    }
   ],
   "source": [
    "from sklearn.metrics import confusion_matrix\n",
    "import seaborn as sns\n",
    "\n",
    "# Prediksi label pada data pengujian\n",
    "y_pred = model.predict(X_test)\n",
    "y_pred = np.argmax(y_pred, axis=1)  # Mengambil label dengan probabilitas tertinggi\n",
    "\n",
    "# Membuat confusion matrix\n",
    "conf_matrix = confusion_matrix(y_test, y_pred)\n",
    "\n",
    "# Plot confusion matrix\n",
    "plt.figure(figsize=(8, 6))\n",
    "sns.heatmap(conf_matrix, annot=True, fmt='d', cmap='Blues', xticklabels=np.unique(y_test), yticklabels=np.unique(y_test))\n",
    "plt.xlabel('Prediksi')\n",
    "plt.ylabel('Aktual')\n",
    "plt.title('Confusion Matrix')\n",
    "plt.show()"
   ]
  }
 ],
 "metadata": {
  "kernelspec": {
   "display_name": "base",
   "language": "python",
   "name": "python3"
  },
  "language_info": {
   "codemirror_mode": {
    "name": "ipython",
    "version": 3
   },
   "file_extension": ".py",
   "mimetype": "text/x-python",
   "name": "python",
   "nbconvert_exporter": "python",
   "pygments_lexer": "ipython3",
   "version": "3.11.4"
  }
 },
 "nbformat": 4,
 "nbformat_minor": 2
}
