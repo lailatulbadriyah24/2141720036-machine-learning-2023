{
  "nbformat": 4,
  "nbformat_minor": 0,
  "metadata": {
    "colab": {
      "provenance": [],
      "gpuType": "T4",
      "authorship_tag": "ABX9TyN+1LIHq38Ns36J25BAYsiz",
      "include_colab_link": true
    },
    "kernelspec": {
      "name": "python3",
      "display_name": "Python 3"
    },
    "language_info": {
      "name": "python"
    },
    "accelerator": "GPU"
  },
  "cells": [
    {
      "cell_type": "markdown",
      "metadata": {
        "id": "view-in-github",
        "colab_type": "text"
      },
      "source": [
        "<a href=\"https://colab.research.google.com/github/lailatulbadriyah24/2141720036-machine-learning-2023/blob/main/praktikum-01.ipynb\" target=\"_parent\"><img src=\"https://colab.research.google.com/assets/colab-badge.svg\" alt=\"Open In Colab\"/></a>"
      ]
    },
    {
      "cell_type": "markdown",
      "source": [
        "# **Praktikum 1: RNN untuk Analisis Sentimen**"
      ],
      "metadata": {
        "id": "ZSra1GNFAhSS"
      }
    },
    {
      "cell_type": "markdown",
      "source": [
        "### **Setup**"
      ],
      "metadata": {
        "id": "N7_2PVlhAp6b"
      }
    },
    {
      "cell_type": "code",
      "execution_count": 1,
      "metadata": {
        "id": "CbRmxp1kAd3r"
      },
      "outputs": [],
      "source": [
        "import numpy as np\n",
        "import tensorflow_datasets as tfds\n",
        "import tensorflow as tf\n",
        "\n",
        "tfds.disable_progress_bar()"
      ]
    },
    {
      "cell_type": "code",
      "source": [
        "import matplotlib.pyplot as plt\n",
        "\n",
        "def plot_graphs(history, metric):\n",
        "  plt.plot(history.history[metric])\n",
        "  plt.plot(history.history['val_'+metric], '')\n",
        "  plt.xlabel(\"Epochs\")\n",
        "  plt.ylabel(metric)\n",
        "  plt.legend([metric, 'val_'+metric])"
      ],
      "metadata": {
        "id": "RKFuNO4NBhSx"
      },
      "execution_count": 2,
      "outputs": []
    },
    {
      "cell_type": "markdown",
      "source": [
        "### **Setup Input Pipeline**"
      ],
      "metadata": {
        "id": "th6qpO0jBrdL"
      }
    },
    {
      "cell_type": "markdown",
      "source": [
        "Dataset ulasan film IMDB adalah kumpulan data klasifikasi biner—semua ulasan memiliki sentimen positif atau negatif."
      ],
      "metadata": {
        "id": "aS_aKhGeByT5"
      }
    },
    {
      "cell_type": "code",
      "source": [
        "# Mengunduh dataset 'imdb_reviews' dari TensorFlow Datasets (tfds)\n",
        "# 'with_info=True' digunakan untuk memuat informasi tambahan tentang dataset\n",
        "# 'as_supervised=True' digunakan untuk memuat dataset dalam bentuk pasangan (data, label)\n",
        "dataset, info = tfds.load('imdb_reviews', with_info=True, as_supervised=True)\n",
        "\n",
        "# Memisahkan dataset menjadi dataset pelatihan dan dataset pengujian\n",
        "train_dataset, test_dataset = dataset['train'], dataset['test']\n",
        "\n",
        "# Menampilkan struktur elemen dari dataset pelatihan\n",
        "train_dataset.element_spec"
      ],
      "metadata": {
        "colab": {
          "base_uri": "https://localhost:8080/"
        },
        "id": "I4GVEfEUB74c",
        "outputId": "ef706e7d-76bb-4ba0-bf92-901d5203d4c6"
      },
      "execution_count": 3,
      "outputs": [
        {
          "output_type": "stream",
          "name": "stdout",
          "text": [
            "Downloading and preparing dataset 80.23 MiB (download: 80.23 MiB, generated: Unknown size, total: 80.23 MiB) to /root/tensorflow_datasets/imdb_reviews/plain_text/1.0.0...\n",
            "Dataset imdb_reviews downloaded and prepared to /root/tensorflow_datasets/imdb_reviews/plain_text/1.0.0. Subsequent calls will reuse this data.\n"
          ]
        },
        {
          "output_type": "execute_result",
          "data": {
            "text/plain": [
              "(TensorSpec(shape=(), dtype=tf.string, name=None),\n",
              " TensorSpec(shape=(), dtype=tf.int64, name=None))"
            ]
          },
          "metadata": {},
          "execution_count": 3
        }
      ]
    },
    {
      "cell_type": "markdown",
      "source": [
        "Awalnya ini mengembalikan dataset (teks, pasangan label):"
      ],
      "metadata": {
        "id": "vE9o5Q-OCIaT"
      }
    },
    {
      "cell_type": "code",
      "source": [
        "# Mengambil satu contoh dari dataset pelatihan menggunakan 'train_dataset.take(1)'\n",
        "# Ini akan menghasilkan satu pasangan (data, label)\n",
        "for example, label in train_dataset.take(1):\n",
        "  # Mencetak teks ulasan dari contoh sebagai nilai dalam bentuk numpy array\n",
        "  print('text: ', example.numpy())\n",
        "  # Mencetak label dari contoh sebagai nilai dalam bentuk numpy array\n",
        "  print('label: ', label.numpy())"
      ],
      "metadata": {
        "colab": {
          "base_uri": "https://localhost:8080/"
        },
        "id": "1QJwEuBaCPFB",
        "outputId": "7bb28ef2-cbaa-4429-a6f2-5c8294c26f09"
      },
      "execution_count": 4,
      "outputs": [
        {
          "output_type": "stream",
          "name": "stdout",
          "text": [
            "text:  b\"This was an absolutely terrible movie. Don't be lured in by Christopher Walken or Michael Ironside. Both are great actors, but this must simply be their worst role in history. Even their great acting could not redeem this movie's ridiculous storyline. This movie is an early nineties US propaganda piece. The most pathetic scenes were those when the Columbian rebels were making their cases for revolutions. Maria Conchita Alonso appeared phony, and her pseudo-love affair with Walken was nothing but a pathetic emotional plug in a movie that was devoid of any real meaning. I am disappointed that there are movies like this, ruining actor's like Christopher Walken's good name. I could barely sit through it.\"\n",
            "label:  0\n"
          ]
        }
      ]
    },
    {
      "cell_type": "markdown",
      "source": [
        "Berikutnya acak data untuk pelatihan dan membuat kumpulan pasangan (teks, label) ini:"
      ],
      "metadata": {
        "id": "qaxEw_QZCUIW"
      }
    },
    {
      "cell_type": "code",
      "source": [
        "# Menentukan ukuran buffer untuk shuffle\n",
        "BUFFER_SIZE = 10000\n",
        "\n",
        "# Menentukan ukuran batch\n",
        "BATCH_SIZE = 64\n",
        "\n",
        "# Mengacak ulang (shuffle) dataset pelatihan dengan buffer sebesar BUFFER_SIZE\n",
        "# dan membaginya menjadi batch dengan ukuran BATCH_SIZE\n",
        "train_dataset = train_dataset.shuffle(BUFFER_SIZE).batch(BATCH_SIZE).prefetch(tf.data.AUTOTUNE)\n",
        "\n",
        "# Memisahkan dataset pengujian menjadi batch dengan ukuran BATCH_SIZE\n",
        "# dan menggunakan prefetching untuk mempercepat pembacaan data\n",
        "test_dataset = test_dataset.batch(BATCH_SIZE).prefetch(tf.data.AUTOTUNE)\n",
        "\n",
        "# Mengambil satu batch (dalam hal ini, pertama) dari dataset pelatihan\n",
        "for example, label in train_dataset.take(1):\n",
        "  # Mencetak tiga teks ulasan pertama dalam batch\n",
        "  print('texts: ', example.numpy()[:3])\n",
        "  print()\n",
        "  # Mencetak tiga label pertama dalam batch\n",
        "  print('labels: ', label.numpy()[:3])"
      ],
      "metadata": {
        "colab": {
          "base_uri": "https://localhost:8080/"
        },
        "id": "6YGh5hQwCdJx",
        "outputId": "f703d8b5-e6a2-4a92-e88e-10cdf521e3fa"
      },
      "execution_count": 5,
      "outputs": [
        {
          "output_type": "stream",
          "name": "stdout",
          "text": [
            "texts:  [b\"I first saw this movie when I was about 10 years old. My mom bought it at our local Kmart because it was on sale for $5 on VHS. She thought that it would be a nice Christmas movie for me and my brothers to watch. This movie, however, scared the hell out of me. You may be asking yourself, how could a movie about Santa Clause scare anyone? The plot of the movie revolves around Satan sending one his minions, Pitch, to earth in an attempt to kill Santa and ruin Christmas. That's right, Satan sends a demon up from hell to kill Santa Clause. Pitch stalks Santa throughout Christmas eve in an attempt to trap him on earth when the sun rises on Christmas day, for if Santa doesn't make it back to his home in space, he turns to powder. Don't get me wrong, the movie is funny and fairly entertaining, however, the image of demons and devils dancing in the depths of hell (which occurs at the beginning of the movie) is just downright creepy.\"\n",
            " b'For those who like depressing films with sleazy characters and a sordid storyline, this one is for you! From the bleak New York City atmosphere, which comes across as an extremely grim and almost hopeless place, to two diverse lead characters devoid of much sense of morality, this movie is a real downer. <br /><br />Why it won the Academy Award was because it was so shocking at that time that Hollywood, brand new its freedom to show anything it wanted with all moral codes abandoned, wanted to celebrate that fact. Filmmakers then were like an immature six-year-old with an unlimited expense account at the local candy store. So, Hollywood gave theater viewers (for probably the first time) a dose of rape, prostitution, homosexuality, child nudity, homeless existence and other such wonderful sights and sounds only its twisted brain would think is appealing....and then awarded its work. <br /><br />It also hoped, I\\'m sure, to shock mainstream audiences. Well, it succeeded on that level. Audiences were stunned at what they say and heard and the Academy, proud of itself for being able to display filth and make money at the same time, couldn\\'t help but bestow honors upon this piece of gilded garbage.<br /><br />Forty years ago, as a very young man, I found this film fascinating, too. However, seeing it again in the 1990s left such a bad taste in my mouth I never watched to view it again. <br /><br />The acting was good, but so what? Acting is good in many films. Nobody ever said Dustin Hoffman and Jon Voight couldn\\'t act. Hoffman was particularly good in his younger days in playing wacked-out people. He was kind of like the Johnny Depp of his era, playing guys like \"Ratso Rizzo\" in this film and then going to be the \"Rain Man\" later on. Yes, \"Ratso\" is a character you\\'ll never forget, and \"Joe Buck\" (Voight) is one you want to forget, but the story is so sordid, it overwhelms the fine acting.<br /><br />This movie isn\\'t \"art,\" and it isn\\'t worthy of its many awards; it only pushed the envelope big-time in 1969 and that\\'s why it is so fondly remembered in the hearts of film people and critics. It\\'s two hours of profanity and ultra-sleazy, religious cheap shots, glorifying weirdos (Andy Warhol even gets in the act - no surprise), and generally despicable people.<br /><br />I did like the catchy song, \"Everybody\\'s Talking\\'\" that helped make Harry Nilsson famous, but even that was bogus because Fred Neil wrote the song and sang it better, before Nilsson did it....and few people have ever heard of Neil (which is their loss). And - as mentioned - the name \"Ratso Rizzo\" kind of stays with you!<br /><br />The film is a landmark, but in a negative sense, I fear: this marked it as \"official\" that Hollywood had gone down the toilet, and it has remained in the sewer ever since.'\n",
            " b'I second the motion to make this into a movie, it would be great!! I was also amazed at the storyline and character build in this game. I have played it again and again (over 20 times) just to try something different and it gets more interesting every time. Final Fantasy eat your heart out!! THIS SHOULD BE MADE INTO A MOVIE!!!!! If anyone out there wants some help to start a petition to have this made into a movie, please contact me. I would love to help with that project any day. The graphics are great for PS1 and even make you forget it is PS1 most of the time. The multitude of side quests makes it different every time you play.']\n",
            "\n",
            "labels:  [0 0 1]\n"
          ]
        }
      ]
    },
    {
      "cell_type": "markdown",
      "source": [
        "### **Buat Teks Encoder**"
      ],
      "metadata": {
        "id": "vrI58CH_Cnt7"
      }
    },
    {
      "cell_type": "markdown",
      "source": [
        "Teks mentah yang dimuat oleh tfds perlu diproses sebelum dapat digunakan dalam model. Cara termudah memproses teks untuk pelatihan adalah menggunakan lapisan TextVectorization. Lapisan ini memiliki banyak kemampuan, namun pada tutorial ini menggunakan perilaku default. Buat lapisan tersebut, dan teruskan teks kumpulan data ke metode .adapt lapisan:"
      ],
      "metadata": {
        "id": "I2dWKua4Ctmq"
      }
    },
    {
      "cell_type": "code",
      "source": [
        "# Menentukan ukuran vokabuler (VOCAB_SIZE)\n",
        "VOCAB_SIZE = 1000\n",
        "\n",
        "# Membuat sebuah objek TextVectorization (encoder) dengan batasan jumlah token maksimal (max_tokens) sebesar VOCAB_SIZE\n",
        "encoder = tf.keras.layers.TextVectorization(\n",
        "    max_tokens=VOCAB_SIZE)\n",
        "\n",
        "# Menyesuaikan encoder dengan dataset pelatihan\n",
        "# Menggunakan metode 'adapt' untuk mengambil teks dari dataset pelatihan\n",
        "# 'train_dataset.map(lambda text, label: text)' digunakan untuk mengambil hanya teks (tanpa label) dari setiap contoh dataset pelatihan\n",
        "encoder.adapt(train_dataset.map(lambda text, label: text))"
      ],
      "metadata": {
        "id": "3Z9N3l60CwNO"
      },
      "execution_count": 6,
      "outputs": []
    },
    {
      "cell_type": "markdown",
      "source": [
        "Metode .adapt mengatur kosakata lapisan. 20 token pertama dapat dilihat dengan kode berikut. Setelah padding dan token yang tidak diketahui, mereka diurutkan berdasarkan frekuensi:"
      ],
      "metadata": {
        "id": "C42_zOhEDEzV"
      }
    },
    {
      "cell_type": "code",
      "source": [
        "# Mengambil vokabuler dari encoder\n",
        "vocab = np.array(encoder.get_vocabulary())\n",
        "\n",
        "# Mencetak 20 token pertama dalam vokabuler\n",
        "vocab[:20]"
      ],
      "metadata": {
        "colab": {
          "base_uri": "https://localhost:8080/"
        },
        "id": "qTWZtxT4DF7F",
        "outputId": "fb9bb569-17fa-442c-9dc6-d29db2ca7a9e"
      },
      "execution_count": 7,
      "outputs": [
        {
          "output_type": "execute_result",
          "data": {
            "text/plain": [
              "array(['', '[UNK]', 'the', 'and', 'a', 'of', 'to', 'is', 'in', 'it', 'i',\n",
              "       'this', 'that', 'br', 'was', 'as', 'for', 'with', 'movie', 'but'],\n",
              "      dtype='<U14')"
            ]
          },
          "metadata": {},
          "execution_count": 7
        }
      ]
    },
    {
      "cell_type": "markdown",
      "source": [
        "Setelah kosakata diatur, lapisan dapat mengkodekan teks ke dalam indeks. Tensor indeks diberi bantalan 0 ke urutan terpanjang dalam batch (kecuali jika Anda menetapkan output_sequence_length tetap):"
      ],
      "metadata": {
        "id": "6UpVtBV2DSeF"
      }
    },
    {
      "cell_type": "code",
      "source": [
        "# Menggunakan encoder untuk mengonversi tiga contoh teks pertama dalam dataset pelatihan\n",
        "encoded_example = encoder(example)[:3].numpy()\n",
        "\n",
        "# Mencetak hasil representasi numerik dari teks\n",
        "encoded_example"
      ],
      "metadata": {
        "colab": {
          "base_uri": "https://localhost:8080/"
        },
        "id": "1UE7rQb8DeeR",
        "outputId": "6b15751f-e30e-4a85-fce0-59c7287ac55c"
      },
      "execution_count": 8,
      "outputs": [
        {
          "output_type": "execute_result",
          "data": {
            "text/plain": [
              "array([[ 10,  86, 208, ...,   0,   0,   0],\n",
              "       [ 16, 144,  37, ...,   0,   0,   0],\n",
              "       [ 10, 326,   2, ...,   0,   0,   0]])"
            ]
          },
          "metadata": {},
          "execution_count": 8
        }
      ]
    },
    {
      "cell_type": "markdown",
      "source": [
        "Dengan pengaturan default, prosesnya tidak dapat dibalik sepenuhnya. Ada dua alasan utama untuk itu:\n",
        "- Nilai default untuk argumen standarisasi preprocessing TextVectorization adalah \"lower_and_strip_punctuation\".\n",
        "- Ukuran kosa kata yang terbatas dan kurangnya fallback berbasis karakter menghasilkan beberapa token yang tidak diketahui."
      ],
      "metadata": {
        "id": "CFQ6d8yLDjSk"
      }
    },
    {
      "cell_type": "code",
      "source": [
        "# Loop untuk melakukan round-trip pada tiga contoh\n",
        "for n in range(3):\n",
        "  # Mencetak teks asli\n",
        "  print(\"Original: \", example[n].numpy())\n",
        "\n",
        "  # Menggunakan vokabuler (vocab) untuk mengubah representasi numerik (encoded_example) kembali menjadi teks\n",
        "  # \" \".join()\" digunakan untuk menggabungkan token-token dalam satu kalimat\n",
        "  print(\"Round-trip: \", \" \".join(vocab[encoded_example[n]]))\n",
        "\n",
        "  # Mencetak baris kosong untuk pemisah\n",
        "  print()"
      ],
      "metadata": {
        "colab": {
          "base_uri": "https://localhost:8080/"
        },
        "id": "qY5jbrUBDn-W",
        "outputId": "352083cd-2b8a-446e-b720-d1ca70528ec6"
      },
      "execution_count": 9,
      "outputs": [
        {
          "output_type": "stream",
          "name": "stdout",
          "text": [
            "Original:  b\"I first saw this movie when I was about 10 years old. My mom bought it at our local Kmart because it was on sale for $5 on VHS. She thought that it would be a nice Christmas movie for me and my brothers to watch. This movie, however, scared the hell out of me. You may be asking yourself, how could a movie about Santa Clause scare anyone? The plot of the movie revolves around Satan sending one his minions, Pitch, to earth in an attempt to kill Santa and ruin Christmas. That's right, Satan sends a demon up from hell to kill Santa Clause. Pitch stalks Santa throughout Christmas eve in an attempt to trap him on earth when the sun rises on Christmas day, for if Santa doesn't make it back to his home in space, he turns to powder. Don't get me wrong, the movie is funny and fairly entertaining, however, the image of demons and devils dancing in the depths of hell (which occurs at the beginning of the movie) is just downright creepy.\"\n",
            "Round-trip:  i first saw this movie when i was about 10 years old my [UNK] [UNK] it at our local [UNK] because it was on [UNK] for 5 on [UNK] she thought that it would be a nice christmas movie for me and my brothers to watch this movie however [UNK] the hell out of me you may be [UNK] yourself how could a movie about [UNK] [UNK] [UNK] anyone the plot of the movie [UNK] around [UNK] [UNK] one his [UNK] [UNK] to earth in an attempt to kill [UNK] and [UNK] christmas thats right [UNK] [UNK] a [UNK] up from hell to kill [UNK] [UNK] [UNK] [UNK] [UNK] throughout christmas [UNK] in an attempt to [UNK] him on earth when the [UNK] [UNK] on christmas day for if [UNK] doesnt make it back to his home in space he turns to [UNK] dont get me wrong the movie is funny and fairly entertaining however the [UNK] of [UNK] and [UNK] [UNK] in the [UNK] of hell which [UNK] at the beginning of the movie is just [UNK] creepy                                                                                                                                                                                                                                                                                                                                                                                                                  \n",
            "\n",
            "Original:  b'For those who like depressing films with sleazy characters and a sordid storyline, this one is for you! From the bleak New York City atmosphere, which comes across as an extremely grim and almost hopeless place, to two diverse lead characters devoid of much sense of morality, this movie is a real downer. <br /><br />Why it won the Academy Award was because it was so shocking at that time that Hollywood, brand new its freedom to show anything it wanted with all moral codes abandoned, wanted to celebrate that fact. Filmmakers then were like an immature six-year-old with an unlimited expense account at the local candy store. So, Hollywood gave theater viewers (for probably the first time) a dose of rape, prostitution, homosexuality, child nudity, homeless existence and other such wonderful sights and sounds only its twisted brain would think is appealing....and then awarded its work. <br /><br />It also hoped, I\\'m sure, to shock mainstream audiences. Well, it succeeded on that level. Audiences were stunned at what they say and heard and the Academy, proud of itself for being able to display filth and make money at the same time, couldn\\'t help but bestow honors upon this piece of gilded garbage.<br /><br />Forty years ago, as a very young man, I found this film fascinating, too. However, seeing it again in the 1990s left such a bad taste in my mouth I never watched to view it again. <br /><br />The acting was good, but so what? Acting is good in many films. Nobody ever said Dustin Hoffman and Jon Voight couldn\\'t act. Hoffman was particularly good in his younger days in playing wacked-out people. He was kind of like the Johnny Depp of his era, playing guys like \"Ratso Rizzo\" in this film and then going to be the \"Rain Man\" later on. Yes, \"Ratso\" is a character you\\'ll never forget, and \"Joe Buck\" (Voight) is one you want to forget, but the story is so sordid, it overwhelms the fine acting.<br /><br />This movie isn\\'t \"art,\" and it isn\\'t worthy of its many awards; it only pushed the envelope big-time in 1969 and that\\'s why it is so fondly remembered in the hearts of film people and critics. It\\'s two hours of profanity and ultra-sleazy, religious cheap shots, glorifying weirdos (Andy Warhol even gets in the act - no surprise), and generally despicable people.<br /><br />I did like the catchy song, \"Everybody\\'s Talking\\'\" that helped make Harry Nilsson famous, but even that was bogus because Fred Neil wrote the song and sang it better, before Nilsson did it....and few people have ever heard of Neil (which is their loss). And - as mentioned - the name \"Ratso Rizzo\" kind of stays with you!<br /><br />The film is a landmark, but in a negative sense, I fear: this marked it as \"official\" that Hollywood had gone down the toilet, and it has remained in the sewer ever since.'\n",
            "Round-trip:  for those who like [UNK] films with [UNK] characters and a [UNK] storyline this one is for you from the [UNK] new york city atmosphere which comes across as an extremely [UNK] and almost [UNK] place to two [UNK] lead characters [UNK] of much sense of [UNK] this movie is a real [UNK] br br why it [UNK] the [UNK] [UNK] was because it was so [UNK] at that time that hollywood [UNK] new its [UNK] to show anything it wanted with all [UNK] [UNK] [UNK] wanted to [UNK] that fact filmmakers then were like an [UNK] [UNK] with an [UNK] [UNK] [UNK] at the local [UNK] [UNK] so hollywood gave theater viewers for probably the first time a [UNK] of [UNK] [UNK] [UNK] child [UNK] [UNK] [UNK] and other such wonderful [UNK] and sounds only its [UNK] [UNK] would think is [UNK] then [UNK] its work br br it also [UNK] im sure to [UNK] [UNK] [UNK] well it [UNK] on that level [UNK] were [UNK] at what they say and heard and the [UNK] [UNK] of itself for being able to [UNK] [UNK] and make money at the same time couldnt help but [UNK] [UNK] upon this piece of [UNK] [UNK] br [UNK] years ago as a very young man i found this film [UNK] too however seeing it again in the [UNK] left such a bad [UNK] in my [UNK] i never watched to view it again br br the acting was good but so what acting is good in many films [UNK] ever said [UNK] [UNK] and [UNK] [UNK] couldnt act [UNK] was particularly good in his [UNK] days in playing [UNK] people he was kind of like the [UNK] [UNK] of his [UNK] playing guys like [UNK] [UNK] in this film and then going to be the [UNK] man later on yes [UNK] is a character youll never forget and joe [UNK] [UNK] is one you want to forget but the story is so [UNK] it [UNK] the fine [UNK] br this movie isnt art and it isnt [UNK] of its many [UNK] it only [UNK] the [UNK] [UNK] in [UNK] and thats why it is so [UNK] [UNK] in the [UNK] of film people and [UNK] its two hours of [UNK] and [UNK] [UNK] cheap shots [UNK] [UNK] [UNK] [UNK] even gets in the act no surprise and [UNK] [UNK] [UNK] br i did like the [UNK] song [UNK] talking that [UNK] make [UNK] [UNK] famous but even that was [UNK] because [UNK] [UNK] [UNK] the song and [UNK] it better before [UNK] did [UNK] few people have ever heard of [UNK] which is their [UNK] and as [UNK] the name [UNK] [UNK] kind of [UNK] with [UNK] br the film is a [UNK] but in a [UNK] sense i [UNK] this [UNK] it as [UNK] that hollywood had gone down the [UNK] and it has [UNK] in the [UNK] ever since                                                                                             \n",
            "\n",
            "Original:  b'I second the motion to make this into a movie, it would be great!! I was also amazed at the storyline and character build in this game. I have played it again and again (over 20 times) just to try something different and it gets more interesting every time. Final Fantasy eat your heart out!! THIS SHOULD BE MADE INTO A MOVIE!!!!! If anyone out there wants some help to start a petition to have this made into a movie, please contact me. I would love to help with that project any day. The graphics are great for PS1 and even make you forget it is PS1 most of the time. The multitude of side quests makes it different every time you play.'\n",
            "Round-trip:  i second the [UNK] to make this into a movie it would be great i was also [UNK] at the storyline and character [UNK] in this game i have played it again and again over 20 times just to try something different and it gets more interesting every time final fantasy [UNK] your heart out this should be made into a movie if anyone out there wants some help to start a [UNK] to have this made into a movie please [UNK] me i would love to help with that [UNK] any day the [UNK] are great for [UNK] and even make you forget it is [UNK] most of the time the [UNK] of side [UNK] makes it different every time you play                                                                                                                                                                                                                                                                                                                                                                                                                                                                          \n",
            "\n"
          ]
        }
      ]
    },
    {
      "cell_type": "markdown",
      "source": [
        "### **Buat Model**"
      ],
      "metadata": {
        "id": "QwlyCJtmD5zF"
      }
    },
    {
      "cell_type": "code",
      "source": [
        "# Membuat sebuah model sequential\n",
        "model = tf.keras.Sequential([\n",
        "    # Encoder (TextVectorization) untuk mengonversi teks ke representasi numerik\n",
        "    encoder,\n",
        "\n",
        "    # Layer embedding dengan input_dim sesuai dengan ukuran vokabuler\n",
        "    # dan output_dim sebesar 64\n",
        "    # 'mask_zero=True' digunakan untuk mengatasi panjang urutan teks yang bervariasi\n",
        "    tf.keras.layers.Embedding(\n",
        "        input_dim=len(encoder.get_vocabulary()),\n",
        "        output_dim=64,\n",
        "        mask_zero=True),\n",
        "\n",
        "    # Layer Bidirectional LSTM dengan 64 unit\n",
        "    tf.keras.layers.Bidirectional(tf.keras.layers.LSTM(64)),\n",
        "\n",
        "    # Layer Dense dengan 64 unit dan aktivasi ReLU\n",
        "    tf.keras.layers.Dense(64, activation='relu'),\n",
        "\n",
        "    # Layer Dense dengan 1 unit (kemungkinan output biner)\n",
        "    tf.keras.layers.Dense(1)\n",
        "])"
      ],
      "metadata": {
        "id": "8As0EZb_EDFP"
      },
      "execution_count": 10,
      "outputs": []
    },
    {
      "cell_type": "code",
      "source": [
        "# Menggunakan list comprehension untuk membuat daftar yang berisi informasi apakah setiap lapisan mendukung masking\n",
        "print([layer.supports_masking for layer in model.layers])"
      ],
      "metadata": {
        "colab": {
          "base_uri": "https://localhost:8080/"
        },
        "id": "ZQ7D0l58ELg8",
        "outputId": "8c061060-0ff0-4887-ec0e-7bca4ac8f797"
      },
      "execution_count": 11,
      "outputs": [
        {
          "output_type": "stream",
          "name": "stdout",
          "text": [
            "[False, True, True, True, True]\n"
          ]
        }
      ]
    },
    {
      "cell_type": "markdown",
      "source": [
        "Untuk memastikan bahwa ini berfungsi seperti yang diharapkan, evaluasi sebuah kalimat dua kali. Pertama, satu kalimat sehingga tidak ada bantalan (padding) untuk disamarkan:"
      ],
      "metadata": {
        "id": "d8Rdc8J4EqmV"
      }
    },
    {
      "cell_type": "code",
      "source": [
        "# Teks sampel yang akan diprediksi\n",
        "sample_text = ('The movie was cool. The animation and the graphics '\n",
        "               'were out of this world. I would recommend this movie.')\n",
        "\n",
        "# Melakukan prediksi pada teks sampel\n",
        "# Menggunakan model.predict() dengan teks sampel yang diubah menjadi NumPy array\n",
        "predictions = model.predict(np.array([sample_text]))\n",
        "\n",
        "# Mencetak hasil prediksi\n",
        "print(predictions[0])"
      ],
      "metadata": {
        "colab": {
          "base_uri": "https://localhost:8080/"
        },
        "id": "LCLjWhiUEuVx",
        "outputId": "13583791-29d6-4cee-e900-874218aacf31"
      },
      "execution_count": 12,
      "outputs": [
        {
          "output_type": "stream",
          "name": "stdout",
          "text": [
            "1/1 [==============================] - 8s 8s/step\n",
            "[-0.00032142]\n"
          ]
        }
      ]
    },
    {
      "cell_type": "markdown",
      "source": [
        "Sekarang, evaluasi lagi dalam batch dengan kalimat yang lebih panjang. Hasilnya harus sama:"
      ],
      "metadata": {
        "id": "Hw3gxCUuFBZx"
      }
    },
    {
      "cell_type": "code",
      "source": [
        "# predict on a sample text with padding\n",
        "\n",
        "padding = \"the \" * 2000\n",
        "predictions = model.predict(np.array([sample_text, padding]))\n",
        "print(predictions[0])"
      ],
      "metadata": {
        "colab": {
          "base_uri": "https://localhost:8080/"
        },
        "id": "D0xXD-6pFNL4",
        "outputId": "f42dd3d5-3740-4863-9cdc-ef3a4326058e"
      },
      "execution_count": 13,
      "outputs": [
        {
          "output_type": "stream",
          "name": "stdout",
          "text": [
            "1/1 [==============================] - 0s 60ms/step\n",
            "[-0.00032142]\n"
          ]
        }
      ]
    },
    {
      "cell_type": "markdown",
      "source": [
        "Compile model Keras untuk mengonfigurasi proses pelatihan:"
      ],
      "metadata": {
        "id": "omHIbPjtFQyz"
      }
    },
    {
      "cell_type": "code",
      "source": [
        "# Mengompilasi model dengan konfigurasi tertentu\n",
        "model.compile(\n",
        "    # Fungsi kerugian (loss function)\n",
        "    loss=tf.keras.losses.BinaryCrossentropy(from_logits=True),\n",
        "\n",
        "    # Optimizer (algoritma pelatihan), dalam hal ini, menggunakan Adam dengan laju pembelajaran 1e-4\n",
        "    optimizer=tf.keras.optimizers.Adam(1e-4),\n",
        "\n",
        "    # Metrik evaluasi yang akan digunakan selama pelatihan, dalam hal ini, akurasi (accuracy)\n",
        "    metrics=['accuracy']\n",
        ")"
      ],
      "metadata": {
        "id": "s4bMZMGyFXfX"
      },
      "execution_count": 14,
      "outputs": []
    },
    {
      "cell_type": "markdown",
      "source": [
        "### **Train Model**"
      ],
      "metadata": {
        "id": "fpELLzmiFbTN"
      }
    },
    {
      "cell_type": "code",
      "source": [
        "# Melatih model dengan data pelatihan selama 10 epoek\n",
        "# Menggunakan model.fit() untuk melatih model\n",
        "# 'train_dataset' adalah dataset pelatihan\n",
        "# 'validation_data' adalah dataset validasi\n",
        "# 'validation_steps' adalah jumlah langkah validasi yang akan dieksekusi\n",
        "history = model.fit(\n",
        "    train_dataset,  # Dataset pelatihan\n",
        "    epochs=10,  # Jumlah epoek\n",
        "    validation_data=test_dataset,  # Dataset validasi\n",
        "    validation_steps=30  # Jumlah langkah validasi\n",
        ")"
      ],
      "metadata": {
        "colab": {
          "base_uri": "https://localhost:8080/"
        },
        "id": "BELM--LaFiai",
        "outputId": "fac0dfe5-9da4-4792-d54c-bc2d2105640f"
      },
      "execution_count": 15,
      "outputs": [
        {
          "output_type": "stream",
          "name": "stdout",
          "text": [
            "Epoch 1/10\n",
            "391/391 [==============================] - 52s 106ms/step - loss: 0.6322 - accuracy: 0.5827 - val_loss: 0.4697 - val_accuracy: 0.7943\n",
            "Epoch 2/10\n",
            "391/391 [==============================] - 27s 68ms/step - loss: 0.3941 - accuracy: 0.8198 - val_loss: 0.3589 - val_accuracy: 0.8318\n",
            "Epoch 3/10\n",
            "391/391 [==============================] - 28s 70ms/step - loss: 0.3340 - accuracy: 0.8529 - val_loss: 0.3474 - val_accuracy: 0.8339\n",
            "Epoch 4/10\n",
            "391/391 [==============================] - 25s 65ms/step - loss: 0.3238 - accuracy: 0.8596 - val_loss: 0.3380 - val_accuracy: 0.8401\n",
            "Epoch 5/10\n",
            "391/391 [==============================] - 26s 65ms/step - loss: 0.3138 - accuracy: 0.8650 - val_loss: 0.3368 - val_accuracy: 0.8411\n",
            "Epoch 6/10\n",
            "391/391 [==============================] - 25s 64ms/step - loss: 0.3073 - accuracy: 0.8673 - val_loss: 0.3232 - val_accuracy: 0.8562\n",
            "Epoch 7/10\n",
            "391/391 [==============================] - 26s 66ms/step - loss: 0.3054 - accuracy: 0.8687 - val_loss: 0.3241 - val_accuracy: 0.8542\n",
            "Epoch 8/10\n",
            "391/391 [==============================] - 26s 65ms/step - loss: 0.3018 - accuracy: 0.8699 - val_loss: 0.3297 - val_accuracy: 0.8536\n",
            "Epoch 9/10\n",
            "391/391 [==============================] - 27s 68ms/step - loss: 0.3008 - accuracy: 0.8714 - val_loss: 0.3205 - val_accuracy: 0.8531\n",
            "Epoch 10/10\n",
            "391/391 [==============================] - 26s 65ms/step - loss: 0.2979 - accuracy: 0.8719 - val_loss: 0.3274 - val_accuracy: 0.8594\n"
          ]
        }
      ]
    },
    {
      "cell_type": "code",
      "source": [
        "# Menggunakan model.evaluate() untuk mengevaluasi model menggunakan dataset pengujian\n",
        "test_loss, test_acc = model.evaluate(test_dataset)\n",
        "\n",
        "# Mencetak hasil loss dan akurasi pengujian\n",
        "print('Test Loss:', test_loss)\n",
        "print('Test Accuracy:', test_acc)"
      ],
      "metadata": {
        "colab": {
          "base_uri": "https://localhost:8080/"
        },
        "id": "LFrf02CVKoFF",
        "outputId": "2f5d3b40-5ef7-4077-953b-742d96e17dcc"
      },
      "execution_count": 16,
      "outputs": [
        {
          "output_type": "stream",
          "name": "stdout",
          "text": [
            "391/391 [==============================] - 15s 37ms/step - loss: 0.3227 - accuracy: 0.8616\n",
            "Test Loss: 0.3227335810661316\n",
            "Test Accuracy: 0.8615999817848206\n"
          ]
        }
      ]
    },
    {
      "cell_type": "code",
      "source": [
        "plt.figure(figsize=(16, 8))\n",
        "plt.subplot(1, 2, 1)\n",
        "plot_graphs(history, 'accuracy')\n",
        "plt.ylim(None, 1)\n",
        "plt.subplot(1, 2, 2)\n",
        "plot_graphs(history, 'loss')\n",
        "plt.ylim(0, None)"
      ],
      "metadata": {
        "colab": {
          "base_uri": "https://localhost:8080/",
          "height": 635
        },
        "id": "otWSzRWwK04R",
        "outputId": "d1a40daf-0ec4-4975-8f70-7fc13e39d26e"
      },
      "execution_count": 17,
      "outputs": [
        {
          "output_type": "execute_result",
          "data": {
            "text/plain": [
              "(0.0, 0.6489471137523651)"
            ]
          },
          "metadata": {},
          "execution_count": 17
        },
        {
          "output_type": "display_data",
          "data": {
            "text/plain": [
              "<Figure size 1600x800 with 2 Axes>"
            ],
            "image/png": "[encoded data removed]"
          },
          "metadata": {}
        }
      ]
    },
    {
      "cell_type": "markdown",
      "source": [
        "Jalankan prediksi pada kalimat baru:\n",
        "\n",
        "Jika prediksi >= 0,0 berarti positif, jika tidak maka negatif."
      ],
      "metadata": {
        "id": "9Qn8DgFbK8uL"
      }
    },
    {
      "cell_type": "code",
      "source": [
        "sample_text = ('The movie was cool. The animation and the graphics '\n",
        "                'were out of this world. I would recommend this movie.')\n",
        "predictions = model.predict(np.array([sample_text]))\n",
        "print(predictions[0])"
      ],
      "metadata": {
        "colab": {
          "base_uri": "https://localhost:8080/"
        },
        "id": "kJDk4bqdK8F1",
        "outputId": "14dd34d6-c4c2-4954-928f-6b374fb0c38a"
      },
      "execution_count": 20,
      "outputs": [
        {
          "output_type": "stream",
          "name": "stdout",
          "text": [
            "1/1 [==============================] - 0s 33ms/step\n",
            "[0.76273924]\n"
          ]
        }
      ]
    },
    {
      "cell_type": "markdown",
      "source": [
        "### **Stack two or more LSTM layers**"
      ],
      "metadata": {
        "id": "QHohfTsZLR7a"
      }
    },
    {
      "cell_type": "markdown",
      "source": [
        "Hal yang menarik dari penggunaan RNN dengan return_sequences=True adalah outputnya masih memiliki 3 axis, sama seperti inputnya, sehingga bisa diteruskan ke layer RNN lain, seperti ini:"
      ],
      "metadata": {
        "id": "1ApXcrB0LYLU"
      }
    },
    {
      "cell_type": "code",
      "source": [
        "# Membuat model dengan arsitektur yang berbeda\n",
        "model = tf.keras.Sequential([\n",
        "    # Encoder (TextVectorization) untuk mengonversi teks ke representasi numerik\n",
        "    encoder,\n",
        "\n",
        "    # Layer embedding dengan input_dim sesuai dengan ukuran vokabuler\n",
        "    # dan output_dim sebesar 64, dengan masking\n",
        "    tf.keras.layers.Embedding(len(encoder.get_vocabulary()), 64, mask_zero=True),\n",
        "\n",
        "    # Layer Bidirectional LSTM dengan 64 unit dan return_sequences=True\n",
        "    tf.keras.layers.Bidirectional(tf.keras.layers.LSTM(64, return_sequences=True)),\n",
        "\n",
        "    # Layer Bidirectional LSTM kedua dengan 32 unit\n",
        "    tf.keras.layers.Bidirectional(tf.keras.layers.LSTM(32)),\n",
        "\n",
        "    # Layer Dense dengan 64 unit dan aktivasi ReLU\n",
        "    tf.keras.layers.Dense(64, activation='relu'),\n",
        "\n",
        "    # Layer Dropout dengan tingkat dropout 0.5\n",
        "    tf.keras.layers.Dropout(0.5),\n",
        "\n",
        "    # Layer Dense Akhir dengan 1 unit\n",
        "    tf.keras.layers.Dense(1)\n",
        "])"
      ],
      "metadata": {
        "id": "B-4IH-axLeZs"
      },
      "execution_count": 21,
      "outputs": []
    },
    {
      "cell_type": "code",
      "source": [
        "# Mengompilasi model dengan konfigurasi tertentu\n",
        "model.compile(\n",
        "    # Fungsi kerugian (loss function)\n",
        "    loss=tf.keras.losses.BinaryCrossentropy(from_logits=True),\n",
        "\n",
        "    # Optimizer (algoritma pelatihan), dalam hal ini, menggunakan Adam dengan laju pembelajaran 1e-4\n",
        "    optimizer=tf.keras.optimizers.Adam(1e-4),\n",
        "\n",
        "    # Metrik evaluasi yang akan digunakan selama pelatihan, dalam hal ini, akurasi (accuracy)\n",
        "    metrics=['accuracy']\n",
        ")"
      ],
      "metadata": {
        "id": "JqXyT7zYLldN"
      },
      "execution_count": 22,
      "outputs": []
    },
    {
      "cell_type": "code",
      "source": [
        "# Melatih model dengan data pelatihan selama 10 epoek\n",
        "# Menggunakan model.fit() untuk melatih model\n",
        "# 'train_dataset' adalah dataset pelatihan\n",
        "# 'validation_data' adalah dataset validasi\n",
        "# 'validation_steps' adalah jumlah langkah validasi yang akan dieksekusi\n",
        "history = model.fit(\n",
        "    train_dataset,  # Dataset pelatihan\n",
        "    epochs=10,  # Jumlah epoek\n",
        "    validation_data=test_dataset,  # Dataset validasi\n",
        "    validation_steps=30  # Jumlah langkah validasi\n",
        ")"
      ],
      "metadata": {
        "colab": {
          "base_uri": "https://localhost:8080/"
        },
        "id": "MPDEufewLqnS",
        "outputId": "378fe61b-aa17-49a0-c00c-4c91a95a2187"
      },
      "execution_count": 23,
      "outputs": [
        {
          "output_type": "stream",
          "name": "stdout",
          "text": [
            "Epoch 1/10\n",
            "391/391 [==============================] - 79s 157ms/step - loss: 0.6384 - accuracy: 0.5642 - val_loss: 0.4506 - val_accuracy: 0.7854\n",
            "Epoch 2/10\n",
            "391/391 [==============================] - 49s 126ms/step - loss: 0.3933 - accuracy: 0.8226 - val_loss: 0.3563 - val_accuracy: 0.8406\n",
            "Epoch 3/10\n",
            "391/391 [==============================] - 48s 122ms/step - loss: 0.3377 - accuracy: 0.8547 - val_loss: 0.3587 - val_accuracy: 0.8323\n",
            "Epoch 4/10\n",
            "391/391 [==============================] - 47s 119ms/step - loss: 0.3257 - accuracy: 0.8609 - val_loss: 0.3342 - val_accuracy: 0.8599\n",
            "Epoch 5/10\n",
            "391/391 [==============================] - 48s 123ms/step - loss: 0.3127 - accuracy: 0.8648 - val_loss: 0.3302 - val_accuracy: 0.8474\n",
            "Epoch 6/10\n",
            "391/391 [==============================] - 47s 119ms/step - loss: 0.3122 - accuracy: 0.8650 - val_loss: 0.3312 - val_accuracy: 0.8396\n",
            "Epoch 7/10\n",
            "391/391 [==============================] - 47s 121ms/step - loss: 0.3054 - accuracy: 0.8712 - val_loss: 0.3247 - val_accuracy: 0.8651\n",
            "Epoch 8/10\n",
            "391/391 [==============================] - 48s 121ms/step - loss: 0.3026 - accuracy: 0.8711 - val_loss: 0.3454 - val_accuracy: 0.8370\n",
            "Epoch 9/10\n",
            "391/391 [==============================] - 46s 117ms/step - loss: 0.3006 - accuracy: 0.8712 - val_loss: 0.3372 - val_accuracy: 0.8604\n",
            "Epoch 10/10\n",
            "391/391 [==============================] - 47s 121ms/step - loss: 0.2999 - accuracy: 0.8708 - val_loss: 0.3309 - val_accuracy: 0.8661\n"
          ]
        }
      ]
    },
    {
      "cell_type": "code",
      "source": [
        "# Menggunakan model.evaluate() untuk mengevaluasi model menggunakan dataset pengujian\n",
        "test_loss, test_acc = model.evaluate(test_dataset)\n",
        "\n",
        "# Mencetak hasil loss dan akurasi pengujian\n",
        "print('Test Loss:', test_loss)\n",
        "print('Test Accuracy:', test_acc)"
      ],
      "metadata": {
        "colab": {
          "base_uri": "https://localhost:8080/"
        },
        "id": "hm71tf77OYOu",
        "outputId": "8e267965-1511-476e-e77c-1de36ed67542"
      },
      "execution_count": 24,
      "outputs": [
        {
          "output_type": "stream",
          "name": "stdout",
          "text": [
            "391/391 [==============================] - 20s 52ms/step - loss: 0.3293 - accuracy: 0.8644\n",
            "Test Loss: 0.3292587995529175\n",
            "Test Accuracy: 0.8644400238990784\n"
          ]
        }
      ]
    },
    {
      "cell_type": "code",
      "source": [
        "# Teks sampel yang akan diprediksi\n",
        "sample_text = ('The movie was not good. The animation and the graphics '\n",
        "               'were terrible. I would not recommend this movie.')\n",
        "\n",
        "# Melakukan prediksi pada teks sampel\n",
        "# Anda menggunakan model.predict() dengan teks sampel yang diubah menjadi NumPy array\n",
        "predictions = model.predict(np.array([sample_text]))\n",
        "\n",
        "# Mencetak hasil prediksi\n",
        "print(predictions)"
      ],
      "metadata": {
        "colab": {
          "base_uri": "https://localhost:8080/"
        },
        "id": "UnoJMhSEOg8Z",
        "outputId": "de174d30-95a6-4b08-c9cf-7a7b233cff6b"
      },
      "execution_count": 25,
      "outputs": [
        {
          "output_type": "stream",
          "name": "stdout",
          "text": [
            "1/1 [==============================] - 7s 7s/step\n",
            "[[-1.6952888]]\n"
          ]
        }
      ]
    },
    {
      "cell_type": "code",
      "source": [
        "plt.figure(figsize=(16, 6))\n",
        "plt.subplot(1, 2, 1)\n",
        "plot_graphs(history, 'accuracy')\n",
        "plt.subplot(1, 2, 2)\n",
        "plot_graphs(history, 'loss')"
      ],
      "metadata": {
        "colab": {
          "base_uri": "https://localhost:8080/",
          "height": 478
        },
        "id": "EvkGJirSOnBJ",
        "outputId": "d0b7736a-1a21-4e1a-c7ea-f03c3adeca3d"
      },
      "execution_count": 26,
      "outputs": [
        {
          "output_type": "display_data",
          "data": {
            "text/plain": [
              "<Figure size 1600x600 with 2 Axes>"
            ],
            "image/png": "[encoded data removed]"
          },
          "metadata": {}
        }
      ]
    }
  ]
}